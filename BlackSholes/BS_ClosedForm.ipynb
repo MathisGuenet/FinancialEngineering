{
 "cells": [
  {
   "cell_type": "markdown",
   "metadata": {},
   "source": [
    "# Black Scholes valuation method"
   ]
  },
  {
   "cell_type": "markdown",
   "metadata": {},
   "source": [
    "Under the Black-Scholes (BS) model, the best method to price a vanilla European option is to use the BS closed formula.\n",
    "\n",
    "The **BS formula** for a call is:\n",
    "\n",
    "\\begin{equation}\n",
    "C(t,T,S_t,K,r,σ) = S_t \\mathrm N(d_1) - \\mathrm K \\mathrm e^{r(T-t)} \\mathrm N(d_2)\n",
    "\\end{equation}\n",
    "\n",
    "with :\n",
    "\n",
    "*   $d_1 = \\frac{ln(\\frac{S_t}{K}) + (r +\\frac{1}{2\\sigma ^2})(T-t)}{\\sigma \\sqrt{T-t}}$\n",
    "*   $d_2 = d_1 - \\sigma \\sqrt{T-t}$\n",
    "\n",
    "where $\\mathrm N$ is the cumulative distribution function of a standard normal random variable.\n",
    "\n",
    "The **BS formula** for a put is :\n",
    "\n",
    "\\begin{equation}\n",
    "P(t,T,S_t,K,r,σ) = \\mathrm K \\mathrm e^{r(T-t)} \\mathrm N(-d_2) - S_t \\mathrm N(-d_1)\n",
    "\\end{equation}\n",
    "\n",
    "### Proof of Black Scholes Formula\n",
    "\n",
    "The BS PDE is given by :\n",
    "\n",
    "\\begin{equation}\n",
    "\t\\frac{\\partial \\mathrm V}{ \\partial \\mathrm t } + \\frac{1}{2}\\sigma^{2} \\mathrm S^{2} \\frac{\\partial^{2} \\mathrm V}{\\partial \\mathrm S^2}\n",
    "\t+ \\mathrm r \\mathrm S \\frac{\\partial \\mathrm V}{\\partial \\mathrm S} - \\mathrm r \\mathrm V= 0 \\\\\n",
    "\\end{equation}\n",
    "\n",
    "\n",
    "We can solve this PDE by using the **Feyman-Kac** methodology which resolve it with a probabilitic method :\n",
    "\n",
    "\\begin{cases}\n",
    "\t\\frac{\\partial \\mathrm V}{ \\partial \\mathrm t } + \\frac{1}{2}\\sigma^{2} \\mathrm S^{2} \\frac{\\partial^{2} \\mathrm V}{\\partial \\mathrm S^2}\n",
    "\t+ \\mathrm r \\mathrm S \\frac{\\partial \\mathrm V}{\\partial \\mathrm S} - \\mathrm r \\mathrm V= 0 \\\\\n",
    "\tF(T, S_{T}) = \\mathrm {Payoff}(T,S_{T})\n",
    "\\end{cases}\n",
    "\n",
    "We know there exists a new probability space $\\mathbb Q$ such that :\n",
    "\n",
    "\\begin{equation}\n",
    "F(t,S_{t}) = e^{-r(T-t)}E^{\\mathbb Q}[\\mathrm {Payoff}(T,S_{T})]\n",
    "\\end{equation}\n",
    "\n",
    "where : $dS_{T} = rS_{t}dt + \\sigma S_{t}dW^{\\mathbb Q}{t}$\n",
    "\n",
    "Note that this is not the same dynamic as BS $dS_{T} = \\mu S_{t}dt + \\sigma S_{t}dW^{\\mathbb P}{t}$ (under subsjective historical econometry). Now we have a new probability $\\mathbb Q \\neq \\mathbb P$ (called the risk free probability) where the drift is the risk free rate $r \\neq \\mu$\n",
    "\n",
    "\n",
    "**to do !!!!!!!!!!!!!!!**\n",
    "\n",
    "\n",
    "\n",
    "### Let us analyze better the previous formulas for a call\n",
    "\n",
    "\\begin{align*}\n",
    "C(S_t,K,T) &= e^{-r(T-t)} \\mathbb{E}^{\\mathbb{Q}}\\biggl[ (S_T - K)^+ \\bigg| S_t \\biggr]  \\\\\n",
    "           &= e^{-r(T-t)} \\mathbb{E}^{\\mathbb{Q}}\\biggl[ S_T \\mathbb{1}_{S_T >K} \\bigg| S_t \\biggr] \n",
    "              - e^{-r(T-t)} \\mathbb{E}^{\\mathbb{Q}}\\biggl[ K \\mathbb{1}_{S_T >K} \\bigg| S_t \\biggr] \\\\\n",
    "            &= e^{-r(T-t)} \\mathbb{E}^{\\mathbb{Q}}\\biggl[ S_T \\mathbb{1}_{S_T >K} \\bigg| S_t \\biggr] \n",
    "              - e^{-r(T-t)} K \\, \\underbrace{\\mathbb{Q}\\biggl[ S_T >K \\bigg| S_t \\biggr]}_{N(d_2)}\n",
    "\\end{align*}\n",
    "\n",
    "\n",
    "Let us introduce the following change of measure (under the stock numeraire):\n",
    "\n",
    "\\begin{aligned}\n",
    "\\frac{d \\tilde{\\mathbb{Q}} }{ d \\mathbb{Q} } &= \\frac{S_T}{\\mathbb{E}^\\mathbb{Q}[S_T]} = \\frac{S_T}{S_t e^{r(T-t)}}  \\\\\n",
    "                                           &= \\frac{S_t e^{(r -\\frac{1}{2}\\sigma^2)(T-t) + \\sigma W_{T-t}} }{S_t e^{r(T-t)}} \\\\\n",
    "                                           &=   e^{ -\\frac{1}{2}\\sigma^2(T-t) + \\sigma W_{T-t} } \\quad \\text{(exponential martingale)}\n",
    "\\end{aligned}\n",
    "\n",
    "\n",
    "By [Girsanov theorem](https://en.wikipedia.org/wiki/Girsanov_theorem), under $\\tilde{\\mathbb{Q}}$ the driving Brownian motion has the new dynamics\n",
    "\n",
    "$$\\tilde{W_{t}} = W_t - \\sigma t $$\n",
    "\n",
    "and the corresponding stock dynamics becomes\n",
    "\n",
    "\\begin{aligned}\n",
    "\\frac{dS_t}{S_t} &= r dt + \\sigma dW_t \\\\\n",
    "                 &= (r+\\sigma^2) dt + \\sigma d\\tilde{W}_t\n",
    "\\end{aligned}\n",
    "\n",
    "The first term is\n",
    "\n",
    "\\begin{aligned}\n",
    "e^{-r(T-t)} \\mathbb{E}^{\\mathbb{Q}}\\biggl[ S_T \\mathbb{1}_{S_T >K} \\bigg| S_t \\biggr] =& e^{-r(T-t)} \\mathbb{E}^{\\tilde{\\mathbb{Q}}}\n",
    "                 \\biggl[ \\frac{d \\mathbb{Q} }{ d \\tilde{\\mathbb{Q}}}  S_T \\mathbb{1}_{S_T >K} \\bigg| S_t \\biggr] \\\\\n",
    "                     =& e^{-r(T-t)} \\mathbb{E}^{\\tilde{\\mathbb{Q}}} \n",
    "                 \\biggl[ \\frac{e^{r(T-t)}S_t}{S_T}  S_T \\mathbb{1}_{S_T >K} \\bigg| S_t \\biggr] \\\\\n",
    "                   =& S_t  \\underbrace{\\tilde{\\mathbb{Q}} ( S_T > K | S_t)}_{N(d_1)}\n",
    "\\end{aligned}\n",
    "\n",
    "At the end we obtain :\n",
    "\n",
    "\\begin{equation}\n",
    "C(S_t,K,T) = S_t  \\underbrace{\\tilde{\\mathbb{Q}} ( S_T > K | S_t)}_{N(d_1)} - e^{-r(T-t)} K \\, \\underbrace{\\mathbb{Q}( S_T >K| S_t)}_{N(d_2)}\n",
    "\\end{equation}\n",
    "\n",
    "\\begin{equation}\n",
    "P(S_t,K,T) =   e^{-r(T-t)} K \\, \\underbrace{\\mathbb{Q}( S_T < K| S_t)}_{N(-d_2)} - S_t\\underbrace{\\tilde{\\mathbb{Q}} ( S_T < K | S_t)}_{N(-d_1)} \n",
    "\\end{equation}\n",
    "\n",
    "We have just seen how to interpret the terms $N(d_1)$ and $N(d_2)$. These are the risk neutral probabilities of $S_T > K$ in the stock and money market numeraires respectively.\n",
    "\n"
   ]
  },
  {
   "cell_type": "code",
   "execution_count": 39,
   "metadata": {},
   "outputs": [],
   "source": [
    "from scipy.integrate import quad\n",
    "import numpy as np\n",
    "import scipy.stats as ss\n",
    "import matplotlib.pyplot as plt\n",
    "plt.rcParams[\"figure.figsize\"] = (12,6)\n",
    "import matplotlib as mpl\n",
    "mpl.style.use('seaborn-whitegrid')\n"
   ]
  },
  {
   "cell_type": "code",
   "execution_count": 40,
   "metadata": {},
   "outputs": [],
   "source": [
    "S0 = 100\n",
    "K = 101\n",
    "r = 0.01\n",
    "sigma = 0.2\n",
    "T = 2"
   ]
  },
  {
   "cell_type": "code",
   "execution_count": 41,
   "metadata": {},
   "outputs": [
    {
     "name": "stdout",
     "output_type": "stream",
     "text": [
      "call price = 11.697047\n",
      "put price = 10.697113\n"
     ]
    }
   ],
   "source": [
    "def BS_price(S0,K,r,sigma, T):\n",
    "  d1 = (np.log(S0/K) + (r + sigma**2 / 2) * T) / (sigma * np.sqrt(T))\n",
    "  d2 = (np.log(S0/K) + (r - sigma**2 / 2) * T) / (sigma * np.sqrt(T))\n",
    "\n",
    "  call = S0 * ss.norm.cdf(d1) - K * np.exp(-r * T) * ss.norm.cdf(d2)\n",
    "  put = K * np.exp(-r * T) * ss.norm.cdf(-d2 ) - S0 * ss.norm.cdf(-d1 )\n",
    "  return call,put\n",
    "\n",
    "call,put = BS_price(S0,K,r,sigma, T)\n",
    "print(\"call price = %f\" %(call))\n",
    "print(\"put price = %f\" %(put))"
   ]
  },
  {
   "cell_type": "markdown",
   "metadata": {},
   "source": [
    "# Numerical integration"
   ]
  },
  {
   "cell_type": "markdown",
   "metadata": {},
   "source": [
    "$Y \\sim \\mathrm LN$ to do !!!!!!!!!!!!!!!\n",
    "\n",
    "The log-normal probability density function is given by \n",
    "\\begin{equation}\n",
    "f(x) = \\frac{1}{x \\sigma \\sqrt{2\\pi}} e^{- \\frac{ \\bigl(\\log(x) - \\mu \\bigr)^2}{2\\sigma^2}}\n",
    "\\end{equation}\n",
    "\n",
    "$\\mu$ is given by the expected return of the log price under risk neutral probability in the money market measure : \n",
    "\n",
    "\\begin{equation}\n",
    "S_T =  e^{ln(S_t)(r - \\frac{1}{2}\\sigma^{2})(T-t) + \\sigma \\sqrt{(T-t)}dW_{T-t}}\n",
    "\\end{equation}\n",
    "\n",
    "\\begin{equation}\n",
    "\\mu = ln(S_t)(r - \\frac{1}{2}\\sigma^{2})(T-t)\n",
    "\\end{equation}\n",
    "\n",
    "$\\sigma$ at time T is given by :\n",
    "\n",
    "\\begin{equation}\n",
    "\\sigma_T = \\sigma \\sqrt{T}\n",
    "\\end{equation}"
   ]
  },
  {
   "cell_type": "code",
   "execution_count": 42,
   "metadata": {},
   "outputs": [
    {
     "data": {
      "image/png": "[encoded data removed]",
      "text/plain": [
       "<Figure size 576x360 with 1 Axes>"
      ]
     },
     "metadata": {},
     "output_type": "display_data"
    }
   ],
   "source": [
    "e_ret = np.log(S0) + ( r - 0.5 * sigma**2 ) * T   # expected return of the log-price\n",
    "vol = sigma * np.sqrt(T)                          # standard deviation of the log-price\n",
    "\n",
    "def log_normal_pdf(x, vol, e_ret):\n",
    "    return 1/(x*vol*np.sqrt(2*np.pi)) * np.exp(- (np.log(x) - e_ret)**2 /(2*vol**2) )\n",
    "\n",
    "plt.figure(figsize=(8,5))\n",
    "x = np.linspace(30,190, 100)\n",
    "plt.plot(x, log_normal_pdf(x, vol, e_ret))\n",
    "plt.title(\"Lognormal distribution, conditioned on $S_0=100$\")\n",
    "plt.xlabel(\"$S_T$\"); plt.show()"
   ]
  },
  {
   "cell_type": "markdown",
   "metadata": {},
   "source": [
    "The value of an call option can be also computed as the discounted expectation of a future payoff in this way:\n",
    "\n",
    "\\begin{aligned}\n",
    "C(S_t,K,T) &= e^{-r(T-t)} \\mathbb{E}^{\\mathbb{Q}}\\biggl[ (S_T - K)^+ \\bigg| S_t \\biggr] \\\\\n",
    "            &= e^{-r(T-t)} \\int_{-\\infty}^{\\infty} (S_T - K)^+ f(S_T|S_t) dS_T   \\\\\n",
    "           &= e^{-r(T-t)} \\int_K^{\\infty} (S_T - K) f(S_T|S_t) dS_T\n",
    "\\end{aligned}\n",
    "\n",
    "Simiraly, The value of an put option can be also computed as the discounted expectation of a future payoff in this way:\n",
    "\n",
    "\\begin{aligned}\n",
    "P(S_t,K,T) &= e^{-r(T-t)} \\mathbb{E}^{\\mathbb{Q}}\\biggl[ (K - S_T)^+ \\bigg| S_t \\biggr] \\\\\n",
    "            &= e^{-r(T-t)} \\int_{-\\infty}^{\\infty} (K - S_T)^+ f(S_T|S_t) dS_T   \\\\\n",
    "           &= e^{-r(T-t)} \\int_{0}^{K} (K - S_T) f(S_T|S_t) dS_T\n",
    "\\end{aligned}\n",
    "\n",
    "where $f(S_T|S_t)$ is the risk neutral transition probability of the process $\\{S_u\\}_{u\\in [t,T]}$. This is a log-normal density function\n",
    "\n",
    "$$ f(S_T|S_t) = \\frac{1}{S_T \\sigma \\sqrt{2\\pi (T-t)}} e^{- \\frac{ \\biggl[\\log(S_T) - \\bigl(\\\\log(S_t) + (r-\\frac{1}{2} \\sigma^2)(T-t) \\bigr) \\biggr]^2}{2\\sigma^2 (T-t)}} $$\n",
    "\n",
    "\n",
    "The put option payoff $(K-S_T)^+$ is positive for $S_T < K$ and call option payoff $(S_T - K)^+$ is positive for $S_T > K$\n",
    " - In the call case, the integration is from $K$ to $\\infty$\n",
    " - In the put case, the integration is from $0$ to $K$\n",
    " - Stock price $S_T$ can't go under 0\n",
    "\n",
    "The function `log_normal(x, vol, e_ret)` defined above, corresponds to the scipy.stats function `ss.lognorm.pdf(x, vol, scale=np.exp(e_ret))`"
   ]
  },
  {
   "cell_type": "code",
   "execution_count": 43,
   "metadata": {},
   "outputs": [
    {
     "name": "stdout",
     "output_type": "stream",
     "text": [
      "call price = 11.697047\n",
      "put price = 10.697113\n"
     ]
    }
   ],
   "source": [
    "def integrand_LN(S, strike, e_ret, vol, payoff):\n",
    "    if payoff == \"call\":\n",
    "        return (S - strike ) * log_normal_pdf(S, vol, e_ret)\n",
    "    elif payoff == \"put\":\n",
    "        return (strike - S) * log_normal_pdf(S, vol, e_ret)\n",
    "\n",
    "def integrand_LN_with_SS(S, strike, e_ret, vol, payoff):\n",
    "    if payoff == \"call\":\n",
    "        return (S - strike ) * ss.lognorm.pdf(S, vol, scale=np.exp(e_ret))\n",
    "    elif payoff == \"put\":\n",
    "        return (strike - S) * ss.lognorm.pdf(S, vol, scale=np.exp(e_ret))\n",
    "\n",
    "call = quad(integrand_LN, K, np.inf, args=(K, e_ret, vol, \"call\") )[0]  * np.exp(-r*T)\n",
    "put = quad(integrand_LN, 0, K, args=(K, e_ret, vol, \"put\") )[0]  * np.exp(-r*T)\n",
    "\n",
    "print(\"call price = %f\" %(call))\n",
    "print(\"put price = %f\" %(put))"
   ]
  },
  {
   "cell_type": "markdown",
   "metadata": {},
   "source": [
    "Remind that valuation of option is :\n",
    "\n",
    "\\begin{equation}\n",
    "C(S_t,K,T) = S_t  \\tilde{\\mathbb{Q}} ( S_T > K | S_t) - e^{-r(T-t)} K \\mathbb{Q}( S_T >K| S_t)\n",
    "\\end{equation}\n",
    "\n",
    "\\begin{equation}\n",
    "P(S_t,K,T) =   e^{-r(T-t)} K \\mathbb{Q}( S_T < K| S_t) - S_t\\tilde{\\mathbb{Q}} (S_T < K | S_t)\n",
    "\\end{equation}\n",
    "\n",
    "What if we use the change of measure proposed above?  In this way the integrations are simpler.\n",
    "\n",
    "Let us compute $\\tilde{\\mathbb{Q}}( S_T > K )$,  $\\mathbb{Q}( S_T > K )$ and $C(S_t,K,T)$ :"
   ]
  },
  {
   "cell_type": "code",
   "execution_count": 44,
   "metadata": {},
   "outputs": [
    {
     "name": "stdout",
     "output_type": "stream",
     "text": [
      "Risk neutral probability under stock numeraire, Q1 = 0.570227\n",
      "Risk neutral probability under money market numeraire, Q2 = 0.457835\n",
      "BS call price: 11.697047\n"
     ]
    }
   ],
   "source": [
    "e_ret = np.log(S0) + ( r - 0.5 * sigma**2 ) * T   # expected return of the log-price under risk neutral probabilities in stock numeraires measure\n",
    "e_ret_1 = np.log(S0) + ( r + 0.5 * sigma**2 ) * T  # expected return of the log-price under risk neutral probabilities in money market numeraires measure\n",
    "\n",
    "Q1 = quad(lambda S: ss.lognorm.pdf(S, vol, scale=np.exp(e_ret_1)), K, np.inf )[0]\n",
    "print(\"Risk neutral probability under stock numeraire, Q1 = %f\" %(Q1))\n",
    "Q2 = quad(lambda S: ss.lognorm.pdf(S, vol, scale=np.exp(e_ret)), K, np.inf )[0]\n",
    "print(\"Risk neutral probability under money market numeraire, Q2 = %f\" %(Q2))\n",
    "call =  S0 * Q1 - K* np.exp(-r*T) *Q2  \n",
    "print(\"BS call price: %f\" %(call))"
   ]
  },
  {
   "cell_type": "markdown",
   "metadata": {},
   "source": [
    "Let us compute $\\tilde{\\mathbb{Q}}( S_T < K )$,  $\\mathbb{Q}(  S_T < K )$ and $P(S_t,K,T)$ :"
   ]
  },
  {
   "cell_type": "code",
   "execution_count": 45,
   "metadata": {},
   "outputs": [
    {
     "name": "stdout",
     "output_type": "stream",
     "text": [
      "Risk neutral probability under stock numeraire, Q1 = 0.429773\n",
      "Risk neutral probability under money market numeraire, Q2 = 0.542165\n",
      "BS put price: 10.697113\n"
     ]
    }
   ],
   "source": [
    "e_ret = np.log(S0) + ( r - 0.5 * sigma**2 ) * T   # expected return of the log-price under risk neutral probabilities in stock numeraires measure\n",
    "e_ret_1 = np.log(S0) + ( r + 0.5 * sigma**2 ) * T  # expected return of the log-price under risk neutral probabilities in money market numeraires measure\n",
    "\n",
    "Q1 = quad(lambda S: ss.lognorm.pdf(S, vol, scale=np.exp(e_ret_1)), 0, K)[0]\n",
    "print(\"Risk neutral probability under stock numeraire, Q1 = %f\" %(Q1))\n",
    "Q2 = quad(lambda S: ss.lognorm.pdf(S, vol, scale=np.exp(e_ret)), 0, K)[0]\n",
    "print(\"Risk neutral probability under money market numeraire, Q2 = %f\" %(Q2))\n",
    "put =  K* np.exp(-r*T) *Q2 - S0 * Q1   \n",
    "print(\"BS put price: %f\" %(put))"
   ]
  },
  {
   "cell_type": "markdown",
   "metadata": {},
   "source": [
    "It is quite common to compute the Black-Scholes formula using $N(d_1)$ and $N(d_2)$.\n",
    "\n",
    "The reason is that the cumulative function of the standard Normal distribution is more accessible (I guess). We could use the function `scipy.stats.norm.cdf`\n",
    "\n",
    "For completeness, let me recall that if $X_T$ is a Normal random variable, then $S_T = S_0 e^{X_T}$ is Log-Normal. Therefore we have:\n",
    "\n",
    "$$ \\mathbb{Q}( S_T > K ) = \\mathbb{Q}\\biggl( S_0 e^{X_T} > K \\biggr) = \\mathbb{Q}\\biggl( X_T > \\log \\frac{K}{S_0} \\biggr) $$\n",
    "\n",
    "This permits to use the Normal cumulative function."
   ]
  }
 ],
 "metadata": {
  "interpreter": {
   "hash": "7a7bf996b318295178cc051fc468e678532803cca234514df570fdce4ae0ebb9"
  },
  "kernelspec": {
   "display_name": "Python 3.8.8 64-bit",
   "language": "python",
   "name": "python3"
  },
  "language_info": {
   "codemirror_mode": {
    "name": "ipython",
    "version": 3
   },
   "file_extension": ".py",
   "mimetype": "text/x-python",
   "name": "python",
   "nbconvert_exporter": "python",
   "pygments_lexer": "ipython3",
   "version": "3.8.8"
  },
  "orig_nbformat": 4
 },
 "nbformat": 4,
 "nbformat_minor": 2
}
