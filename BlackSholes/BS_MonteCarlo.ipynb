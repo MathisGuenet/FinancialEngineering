{
 "cells": [
  {
   "cell_type": "markdown",
   "metadata": {},
   "source": [
    "# Pricing with Black-Scholes Model\n",
    "\n",
    "### BS Model\n",
    "\n",
    "risky asset $S$ with volatility $σ$. Its dynamic under risk-neutral probability $\\mathbb Q$ is :\n",
    "\\begin{equation}\n",
    "dS_{t} = rS_{t} dt + σS_{t} dB^{\\mathbb Q}\n",
    "\\end{equation}\n",
    "where $B_{t}^{\\mathbb Q}$ un $\\mathbb Q$ mouvement brownien, i.e \n",
    "\\begin{equation}\n",
    "S_{T} = S_{0}e^{(r-\\frac{1}{2}\\sigma^{2})T + \\sigma B^{\\mathbb Q}_{T}}\n",
    "\\end{equation}\n",
    "\n",
    "### Risk Neutral/Martingale pricing\n",
    "\n",
    "The derivative price at time $t$ with underlying $S$, maturity $T$ and payoff $h(S_{T})$ is given by :\n",
    "\\begin{equation}\n",
    "C_{t} = E^{\\mathbb Q}[e^{-r(T-t)}h(S_{T})|F_t]\n",
    "\\end{equation}\n",
    "\n",
    "\n",
    "### Black-Scholes Formula for european call option\n",
    "\n",
    "The **BS formula** for a call with payoff $h(S_{t}) = (S_{T} - K)_{+}$\n",
    "\n",
    "\\begin{equation}\n",
    "C(t,T,S_t,K,r,σ) = S_t \\mathrm N(d_1) - \\mathrm K \\mathrm e^{r(T-t)} \\mathrm N(d_2)\n",
    "\\end{equation}\n",
    "\n",
    "with :\n",
    "\n",
    "*   $d_1 = \\frac{ln(\\frac{S_t}{K}) + (r +\\frac{1}{2\\sigma ^2})(T-t)}{\\sigma \\sqrt{T-t}}$\n",
    "*   $d_2 = d_1 - \\sigma \\sqrt{T-t}$\n",
    "\n",
    "where $\\mathrm N$ is the cumulative distribution function of a standard normal random variable.\n"
   ]
  },
  {
   "cell_type": "markdown",
   "metadata": {},
   "source": [
    "# Monte Carlo Method \n",
    "\n"
   ]
  },
  {
   "cell_type": "code",
   "execution_count": null,
   "metadata": {},
   "outputs": [],
   "source": []
  }
 ],
 "metadata": {
  "language_info": {
   "name": "python"
  },
  "orig_nbformat": 4
 },
 "nbformat": 4,
 "nbformat_minor": 2
}
