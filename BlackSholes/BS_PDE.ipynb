{
 "cells": [
  {
   "cell_type": "markdown",
   "metadata": {},
   "source": [
    "# The Black-Scholes PDE"
   ]
  },
  {
   "cell_type": "markdown",
   "metadata": {},
   "source": [
    "https://github.com/cantaro86/Financial-Models-Numerical-Methods/blob/master/2.1%20Black-Scholes%20PDE%20and%20sparse%20matrices.ipynb\n",
    "\n",
    "In this notebook let's try solving the famous Black-Scholes (BS) Partial Differential Equation (PDE) also know as heat equation :\n",
    "\\begin{equation}\n",
    "\t\\frac{\\partial \\mathrm V}{ \\partial \\mathrm t } + \\frac{1}{2}\\sigma^{2} \\mathrm S^{2} \\frac{\\partial^{2} \\mathrm V}{\\partial \\mathrm S^2}\n",
    "\t+ \\mathrm r \\mathrm S \\frac{\\partial \\mathrm V}{\\partial \\mathrm S} - \\mathrm r \\mathrm V= 0\n",
    "\\end{equation}\n",
    "\n",
    "This time we won't use probability (see notebook BS_ClosedForm) but we will use a fully implicit method, because it is an efficient and stable method. The illustrated approach can be used to solve more complex problems, such as the pricing of different types of derivatives (barrier options, digital options, American options, etc) with small modifications."
   ]
  },
  {
   "cell_type": "code",
   "execution_count": 62,
   "metadata": {},
   "outputs": [],
   "source": [
    "import numpy as np\n",
    "import scipy as scp\n",
    "import matplotlib.pyplot as plt\n",
    "plt.rcParams[\"figure.figsize\"] = (12,6)\n",
    "import matplotlib as mpl\n",
    "mpl.style.use('seaborn-whitegrid')\n",
    "from scipy import sparse\n",
    "from scipy.sparse.linalg import splu\n",
    "from scipy.sparse.linalg import spsolve\n",
    "\n",
    "from IPython.display import display\n",
    "import sympy; sympy.init_printing()\n",
    "\n",
    "def display_matrix(m):\n",
    "    display(sympy.Matrix(m))"
   ]
  },
  {
   "cell_type": "markdown",
   "metadata": {},
   "source": [
    "## PDE in log-variables\n",
    "\n",
    "Let us consider the geometric Brownian motion (GBM), described by the SDE:\n",
    "\n",
    "$$\\frac{dS_t}{S_t} = \\mu dt + \\sigma dW_t$$\n",
    "\n",
    "Let $V(t,S_t)$ be the value of a European call option.\n",
    "\n",
    "By the martingale pricing theory, in an arbitrage-free market there exists an equivalent martingale measure $\\mathbb{Q}$ such that the discounted option price is a $\\mathbb{Q}$-martingale. (Remember that under $\\mathbb{Q}$ the drift $\\mu$ is replaced by the risk free drift $r$.)\n",
    "\n",
    "In log-variables the BS PDE is:\n",
    "\n",
    "\\begin{equation}\n",
    "\t\\frac{\\partial \\mathrm V(t,x)}{ \\partial \\mathrm t } +( r - \\frac{1}{2}\\sigma^{2} ) \\frac{\\partial \\mathrm V(t,x)}{\\partial x} + \\frac{1}{2}\\sigma^{2} \\frac{\\partial^{2} \\mathrm V (t,x)}{\\partial x^2}\n",
    " - \\mathrm r \\mathrm V(t,x)= 0\n",
    "\\end{equation}\n",
    "\n",
    "For an option with strike $K$ and maturity $T$, the boundary conditions are:\n",
    "\n",
    "CALL:\n",
    "*   Terminal : $$ V(t,x) = max(e^x-K,0)$$\n",
    "*   Lateral $$ \\lim_{x\\to-\\infty} V(t,x) = 0  \\text{    and} \\lim_{x\\to+\\infty} V(t,x) \\sim e^x -Ke^{-r(T-t)}$$\n",
    "\n",
    "Put:\n",
    "*   Terminal : $$ V(t,x) = max(K-e^x,0)$$\n",
    "*   Lateral $$ \\lim_{x\\to-\\infty} V(t,x) \\sim Ke^{-r(T-t)}  \\text{    and} \\lim_{x\\to+\\infty} V(t,x) = 0$$\n",
    "\n",
    "\n"
   ]
  },
  {
   "cell_type": "markdown",
   "metadata": {},
   "source": [
    "## Derivative approximation\n",
    "\n",
    "Finite difference methods are a technique for obtaining numerical solutions of PDEs. The idea underlying finite-difference methods is to replace the partial derivatives occurring in the PDE by finite difference approximations. If we assume that $V$ is a smooth function, we can use the Taylor series expansion near the point of interest. For a $\\Delta t > 0$ we can write :\n",
    "\n",
    "$$ V(t+\\Delta t, x) \\approx V(t,x) + \\frac{\\partial \\mathrm V(t,x)}{ \\partial \\mathrm t }Δt +  \\frac{1}{2}\\sigma^{2} \\frac{\\partial^{2} \\mathrm V (t,x)}{\\partial t^2}Δt^2 + $$\n",
    "$$ V(t-\\Delta t, x) \\approx V(t,x) - \\frac{\\partial \\mathrm V(t,x)}{ \\partial \\mathrm t }Δt +  \\frac{1}{2}\\sigma^{2} \\frac{\\partial^{2} \\mathrm V (t,x)}{\\partial t^2}Δt^2 +$$\n",
    "\n",
    "An analogous approximation can be done for $V(t,x+\\Delta x)$ with $\\Delta x > 0$.\n",
    "\n",
    "If we want to approximate the partial derivative with respect to time, we obtain the following finite difference approximation :\n",
    "\n",
    "\\begin{equation}\n",
    "\t\\frac{\\partial \\mathrm V(t,x)}{ \\partial \\mathrm t }  = \\frac{V(t+Δt,x) - V(t,x)}{Δt}\n",
    "\\end{equation}\n",
    "\n",
    "Also called **forward difference**, since the differencing is in the forward $t$ direction. We can also consider the **backward difference** :\n",
    "\n",
    "\\begin{equation}\n",
    "\t\\frac{\\partial \\mathrm V(t,x)}{ \\partial \\mathrm t }  = \\frac{V(t,x) - V(t-Δt,x)}{Δt}\n",
    "\\end{equation}\n",
    "\n",
    "and the **central difference**:\n",
    "\n",
    "\\begin{equation}\n",
    "\t\\frac{\\partial \\mathrm V(t,x)}{ \\partial \\mathrm t }  = \\frac{V(t+Δt,x) - V(t,x-Δt)}{2Δt}\n",
    "\\end{equation}\n",
    "\n",
    "\n",
    "If we want to approximate the first order partial derivative with respect to $x$, we obtain the following finite **central difference** approximation :\n",
    "\n",
    "\\begin{equation}\n",
    "\t\\frac{\\partial \\mathrm V(t,x)}{ \\partial x }  = \\frac{V(t,x+Δx) - V(t,x - Δx)}{2Δx}\n",
    "\\end{equation}\n",
    "\n",
    "For second order derivatives, such as $\\frac{\\partial^2 \\mathrm V(t,x)}{ \\partial x^2 }$, we can use the symmetric central difference approximation for a $\\Delta x > 0$:\n",
    "\n",
    "\\begin{equation}\n",
    "\t\\frac{\\partial^2 \\mathrm V(t,x)}{ \\partial x^2 }  = \\frac{V(t,x+Δx) - V(t,x - Δx) - 2V(t,x)}{Δx^2}\n",
    "\\end{equation}\n",
    "\n",
    "The use of the **forward** and **backward difference** approximation leads to the **explicit** and **implicit** finite difference schemes respectively. The **central difference** is not used for the time variable because it leads to bad numerical schemes. But it is common to use it for the space variable."
   ]
  },
  {
   "cell_type": "markdown",
   "metadata": {},
   "source": [
    "## Implicit discretization\n",
    "\n",
    "First we have to restrict the theoretical infinite domain to the finite region $[t_0,T]\\, \\times \\, [A_1,A_2]$, with $A_1 < A_2$.\n",
    "\n",
    "The next step is to replace $[t_0,T]\\times [A_1,A_2]$ by a discrete grid:\n",
    "\n",
    "For $n = 0,1, ... N \\in \\mathbb{N}$, define the discrete time step $ \\Delta t = \\frac{T - t_0}{N} $ such that $t_n = t_0 + n \\Delta t$. For $i = 0,1, ... M \\in \\mathbb{N}$, define the discrete space step $ \\Delta x = \\frac{A_2 - A_1}{M} $ such that $x_i = A_1 + i \\Delta x$.\n",
    "\n",
    "The grid is divided into equally spaced nodes of distance $\\Delta x$ in the x-axis, and of distance $\\Delta t$ in the t-axis.\n",
    "\n",
    "The mesh points have the form $(t_0 + n \\Delta t, A_1 + i \\Delta x)$. At this point we concern ourselves only with the values of $V(t,x)$ on the mesh nodes. We call :  \n",
    "\n",
    "$$V(t_0 + nΔt, A1 + iΔx) =  V_i^n$$\n",
    "\n",
    "We apply the backward discretization (implicit scheme) for the time derivative, and a central discretization for the first order space derivative.\n",
    "\n",
    "We are interested in the value of V at time $t_0$. We know the values $V^N$ corresponding to the terminal conditions. The algorithm consists in finding the values $V^n$ given the knowledge of the values $V^{n+1}$.\n",
    "\n",
    "The discretized equation becomes :\n",
    "\n",
    "$$ \\frac{V_i^{n+1} -V_i^{n}}{Δt} + (r - \\frac{1}{2}σ^2)\\frac{V_{i+1}^{n} -V_{i-1}^{n}}{2Δx} + \\frac{1}{2}σ^2\\frac{V_{i+1}^{n} -V_{i-1}^{n} - 2V_{i}^{n}}{Δx^2} - r V_i^n = 0$$\n",
    "\n",
    "Rearranging the terms:\n",
    "\n",
    "\\begin{align*}\n",
    "  V_i^{n+1} &= V_i^n(1+rΔt + σ^2 \\frac{Δt}{Δx^2}) \\\\ \n",
    "  &+ V_{i+1}^n(-(r-\\frac{1}{2}σ^2)\\frac{Δt}{2Δx}- \\frac{1}{2}σ^2\\frac{Δt}{Δx^2} \\\\\n",
    "  &+ V_{i-1}^n((r-\\frac{1}{2}σ^2)\\frac{Δt}{2Δx} - \\frac{1}{2}σ^2\\frac{Δt}{Δx^2}\n",
    "\\end{align*}\n",
    "\n",
    "We can rename the coefficients such that:\n",
    "\n",
    "$$V_i^{n+1} = \\mathrm a V_{i-1}^{n} + \\mathrm b V_{1}^{n} + \\mathrm c V_{1+1}^{n}$$\n",
    "\n",
    "and write it in matrix form:\n",
    "\n",
    "$$\\begin{pmatrix} V_{1}^{n+1} \\\\\n",
    "  V_{2}^{n+1} \\\\\n",
    "  \\vdots  \\\\\n",
    "  V_{M-2}^{n+1}  \\\\\n",
    "  V_{M-1}^{n+1}\n",
    "  \\end{pmatrix} =\n",
    "\\begin{pmatrix} b & c & 0 & \\dots & 0\\\\\n",
    "  a & b & c & 0 & 0 \\\\\n",
    "  0 & \\ddots & \\ddots & \\ddots & 0 \\\\\n",
    "  \\vdots & 0 & a & b & c \\\\\n",
    "  0 & 0 & 0 & a & b \n",
    "  \\end{pmatrix} .\n",
    "  \\begin{pmatrix} V_{1}^{n} \\\\\n",
    "  V_{2}^{n} \\\\\n",
    "  \\vdots  \\\\\n",
    "  V_{M-2}^{n}  \\\\\n",
    "  V_{M-1}^{n}\n",
    "  \\end{pmatrix}\n",
    "  +\n",
    "  \\begin{pmatrix} aV_{0}^{n} \\\\\n",
    "  0 \\\\\n",
    "  \\vdots  \\\\\n",
    "  0  \\\\\n",
    "  cV_{M}^{n}\n",
    "  \\end{pmatrix}\n",
    "   $$\n",
    "\n",
    "The system\n",
    "\n",
    "$$ V^{n+1} = \\mathcal{D}V^n + B$$\n",
    "\n",
    "can be solved easily for $V^{n}$ by inverting the matrix $\\mathcal{D}$.\n",
    "\n"
   ]
  },
  {
   "cell_type": "markdown",
   "metadata": {},
   "source": [
    "## Numerical solution of the PDE\n",
    "\n",
    "Let's now solve the vector equation derived in the section \"Implicit discretization\".\n",
    "\n",
    "In this case we consider a call option with strike $K$, maturity $T$. The stock price $S_0$ is not relevant for the algorithm. We will use it in the end to compute the value of the option for $S_0$.\n",
    "\n",
    "A common practice is to choose the computational region between $3K$ and $\\frac{K}{3}$. Then we have $A_1 = \\log \\frac{K}{3}$ and $A_2 = \\log 3K$.\n",
    "\n",
    "The values of the parameter are:"
   ]
  },
  {
   "cell_type": "code",
   "execution_count": 53,
   "metadata": {},
   "outputs": [],
   "source": [
    "#Option parameters\n",
    "r = 0.01\n",
    "sigma = 0.2                \n",
    "S0 = 100\n",
    "X0 = np.log(S0)          \n",
    "K = 101\n",
    "tau = 2"
   ]
  },
  {
   "cell_type": "markdown",
   "metadata": {},
   "source": [
    "### Call option valuation\n",
    "\n",
    "For a put option with strike $K$ and maturity $T$, the boundary conditions are:\n",
    "\n",
    "*   Terminal : $$ V(t,x) = max(e^x-K,0)$$\n",
    "*   Lateral $$ \\lim_{x\\to-\\infty} V(t,x) = 0  \\text{    and} \\lim_{x\\to+\\infty} V(t,x) \\sim e^x -Ke^{-r(T-t)}$$"
   ]
  },
  {
   "cell_type": "code",
   "execution_count": 54,
   "metadata": {},
   "outputs": [],
   "source": [
    "#Grid parameters\n",
    "Nspace = 3000   # M space steps\n",
    "Ntime = 2000    # N time steps   \n",
    "\n",
    "S_max = 3*float(K)                \n",
    "S_min = float(K)/3\n",
    "\n",
    "x_max = np.log(S_max)  # A2\n",
    "x_min = np.log(S_min)  # A1\n",
    "\n",
    "x, dx = np.linspace(x_min, x_max, Nspace, retstep=True)   # space discretization\n",
    "T, dt = np.linspace(0, tau, Ntime, retstep=True)       # time discretization\n",
    "Payoff = np.maximum(np.exp(x)-K,0)          # Call payoff\n",
    "\n",
    "V = np.zeros((Nspace,Ntime))       # grid initialization\n",
    "offset = np.zeros(Nspace-2)        # vector to be used for the boundary terms   \n",
    "\n",
    "# Conditions\n",
    "V[:,-1] = Payoff                   # terminal conditions \n",
    "V[-1,:] = np.exp(x_max) - K * np.exp(-r* T[::-1] )  # boundary/lateral condition (maximum profit)\n",
    "V[0,:] = 0                         # boundary/lateral condition (lowest profit)"
   ]
  },
  {
   "cell_type": "code",
   "execution_count": 55,
   "metadata": {},
   "outputs": [],
   "source": [
    "# construction of the tri-diagonal matrix D\n",
    "sig2 = sigma*sigma; dxx = dx * dx\n",
    "\n",
    "a = ( (dt/2) * ( (r-0.5*sig2)/dx - sig2/dxx ) )\n",
    "b = ( 1 + dt * ( sig2/dxx + r ) )\n",
    "c = (-(dt/2) * ( (r-0.5*sig2)/dx + sig2/dxx ) )\n",
    "\n",
    "D = sparse.diags([a, b, c], [-1, 0, 1], shape=(Nspace-2, Nspace-2)).tocsc()"
   ]
  },
  {
   "cell_type": "code",
   "execution_count": 56,
   "metadata": {},
   "outputs": [],
   "source": [
    "# Backward iteration\n",
    "import time\n",
    "sTime = time.time()\n",
    "for i in range(Ntime-2,-1,-1):\n",
    "    offset[0] = a * V[0,i]\n",
    "    offset[-1] = c * V[-1,i]; \n",
    "    V[1:-1,i] = spsolve( D, (V[1:-1,i+1] - offset))\n",
    "\n",
    "eTime = time.time() - sTime "
   ]
  },
  {
   "cell_type": "markdown",
   "metadata": {},
   "source": [
    "Now that we have grid of option prices depending on the stock price at time $t_0$, we can now find/interpolate the option price for $S_0 = 100$\n",
    "\n",
    "https://numpy.org/doc/stable/reference/generated/numpy.interp.html"
   ]
  },
  {
   "cell_type": "code",
   "execution_count": 57,
   "metadata": {},
   "outputs": [
    {
     "name": "stdout",
     "output_type": "stream",
     "text": [
      "Call Option Price is : 11.696317 in 4.529993 secondes\n"
     ]
    }
   ],
   "source": [
    "# finds the option at S0\n",
    "call = np.interp(X0, x, V[:,0])\n",
    "print(\"Call Option Price is : %f in %f secondes\" %(call, eTime))"
   ]
  },
  {
   "cell_type": "markdown",
   "metadata": {},
   "source": [
    "### Put option valuation\n",
    "\n",
    "For a put option with strike $K$ and maturity $T$, the boundary conditions are:\n",
    "\n",
    "*   Terminal : $$ V(t,x) = max(K-e^x,0)$$\n",
    "*   Lateral $$ \\lim_{x\\to-\\infty} V(t,x) \\sim Ke^{-r(T-t)}  \\text{    and} \\lim_{x\\to+\\infty} V(t,x) = 0$$"
   ]
  },
  {
   "cell_type": "code",
   "execution_count": 58,
   "metadata": {},
   "outputs": [],
   "source": [
    "#Grid parameters\n",
    "Nspace = 3000   # M space steps\n",
    "Ntime = 2000    # N time steps   \n",
    "\n",
    "S_max = 3*float(K)                \n",
    "S_min = float(K)/3\n",
    "\n",
    "x_max = np.log(S_max)  # A2\n",
    "x_min = np.log(S_min)  # A1\n",
    "\n",
    "x, dx = np.linspace(x_min, x_max, Nspace, retstep=True)   # space discretization\n",
    "T, dt = np.linspace(0, tau, Ntime, retstep=True)       # time discretization\n",
    "Payoff = np.maximum(K - np.exp(x),0)          # Call payoff\n",
    "\n",
    "V = np.zeros((Nspace,Ntime))       # grid initialization\n",
    "offset = np.zeros(Nspace-2)        # vector to be used for the boundary terms   \n",
    "\n",
    "# Conditions\n",
    "V[:,-1] = Payoff                   # terminal conditions \n",
    "V[-1,:] = K * np.exp(-r* T[::-1] )  # boundary/lateral condition (maximum profit)\n",
    "V[0,:] = 0                         # boundary/lateral condition (lowest profit)"
   ]
  },
  {
   "cell_type": "code",
   "execution_count": 59,
   "metadata": {},
   "outputs": [],
   "source": [
    "# construction of the tri-diagonal matrix D\n",
    "sig2 = sigma*sigma; dxx = dx * dx\n",
    "\n",
    "a = ( (dt/2) * ( (r-0.5*sig2)/dx - sig2/dxx ) )\n",
    "b = ( 1 + dt * ( sig2/dxx + r ) )\n",
    "c = (-(dt/2) * ( (r-0.5*sig2)/dx + sig2/dxx ) )\n",
    "\n",
    "D = sparse.diags([a, b, c], [-1, 0, 1], shape=(Nspace-2, Nspace-2)).tocsc()\n",
    "\n",
    "# Backward iteration\n",
    "sTime = time.time()\n",
    "for i in range(Ntime-2,-1,-1):\n",
    "    offset[0] = a * V[0,i]\n",
    "    offset[-1] = c * V[-1,i]; \n",
    "    V[1:-1,i] = spsolve( D, (V[1:-1,i+1] - offset))\n",
    "\n",
    "eTime = time.time()- sTime"
   ]
  },
  {
   "cell_type": "code",
   "execution_count": 61,
   "metadata": {},
   "outputs": [
    {
     "name": "stdout",
     "output_type": "stream",
     "text": [
      "Put Option Price is : 10.692761 in 4.445136 secondes\n"
     ]
    }
   ],
   "source": [
    "# finds the put option at S0\n",
    "put = np.interp(X0, x, V[:,0])\n",
    "print(\"Put Option Price is : %f in %f secondes\" %(put, eTime))"
   ]
  },
  {
   "cell_type": "code",
   "execution_count": null,
   "metadata": {},
   "outputs": [],
   "source": []
  }
 ],
 "metadata": {
  "interpreter": {
   "hash": "7a7bf996b318295178cc051fc468e678532803cca234514df570fdce4ae0ebb9"
  },
  "kernelspec": {
   "display_name": "Python 3.8.8 64-bit",
   "language": "python",
   "name": "python3"
  },
  "language_info": {
   "codemirror_mode": {
    "name": "ipython",
    "version": 3
   },
   "file_extension": ".py",
   "mimetype": "text/x-python",
   "name": "python",
   "nbconvert_exporter": "python",
   "pygments_lexer": "ipython3",
   "version": "3.8.8"
  },
  "orig_nbformat": 4
 },
 "nbformat": 4,
 "nbformat_minor": 2
}
