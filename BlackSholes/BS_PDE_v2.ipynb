{
 "cells": [
  {
   "cell_type": "markdown",
   "metadata": {},
   "source": [
    "# The Black Scholes Model\n",
    "\n",
    "In this notebook let's try solving numerically the famous Black-Scholes (BS) Partial Differential Equation (PDE) also know as heat equation :\n",
    "\\begin{equation}\n",
    "\t\\frac{\\partial \\mathrm V}{ \\partial \\mathrm t } (S,t)+ \\frac{1}{2}\\sigma^{2} \\mathrm S^{2} \\frac{\\partial^{2} \\mathrm V}{\\partial \\mathrm S^2}(S,t)\n",
    "\t+ \\mathrm r \\mathrm S \\frac{\\partial \\mathrm V}{\\partial \\mathrm S} (S,t) - \\mathrm r \\mathrm V(S,t)= 0\n",
    "\\end{equation}\n",
    "\n",
    "Our partial differential equation is of parabolic type and we can make general statements about the sort of boundary conditions that lead to a unique solution. Typically, we must pose two conditions in S.\n",
    "\n",
    "For example we could specify that\n",
    "$$V (S, t) = V_a(t) \\text{ for } S = a$$\n",
    "and\n",
    "$$V (S, t) = V_b(t) \\text{ for } S = b$$\n",
    "where $V_a$ and $V_b$ are given functions of $t$.\n",
    "\n",
    "\n",
    "If the equation is of backward type we must also impose a final condition\n",
    "such as\n",
    "$$V (S, t) = V_T (S) \\text{ for } t = T$$\n",
    "where $V_T$ is a known function.\n",
    "\n",
    "\n",
    "Consider the Black-Scholes equation and apply the change of varIables \n",
    "\\begin{equation}\n",
    "k(t) = T − t\n",
    "\\end{equation}\n",
    "\n",
    "From the following relation :\n",
    "\n",
    "\\begin{equation}\n",
    "\\frac{\\partial V (S,t)}{\\partial t} = \\frac{\\partial V (S,k(t))}{\\partial k(t)}k'(t) = -\\frac{\\partial V (S,k)}{\\partial k}\n",
    "\\end{equation}\n",
    "We see that we can replace again k with t. By doing this, BS equation becomes:\n",
    "\\begin{equation}\n",
    "\\frac{\\partial \\mathrm V}{ \\partial \\mathrm t } (S,t) - \\frac{1}{2}\\sigma^{2} \\mathrm S^{2} \\frac{\\partial^{2} \\mathrm V}{\\partial \\mathrm S^2}(S,t) -\\mathrm r \\mathrm S \\frac{\\partial \\mathrm V}{\\partial \\mathrm S} (S,t) + \\mathrm r \\mathrm V(S,t)= 0\n",
    "\\end{equation}"
   ]
  },
  {
   "cell_type": "markdown",
   "metadata": {},
   "source": [
    "For an **European call option**, let us denote the function value $V$ by $C$:\n",
    "\\begin{equation}\n",
    "\\frac{\\partial \\mathrm C}{ \\partial \\mathrm t } (S,t) - \\frac{1}{2}\\sigma^{2} \\mathrm S^{2} \\frac{\\partial^{2} \\mathrm C}{\\partial \\mathrm S^2}(S,t) -\\mathrm r \\mathrm S \\frac{\\partial \\mathrm C}{\\partial \\mathrm S} (S,t) + \\mathrm r \\mathrm C(S,t)= 0\n",
    "\\end{equation}\n",
    "\n",
    "The final condition\n",
    "\\begin{equation}\n",
    "C(S, T) = max(S − E, 0)\n",
    "\\end{equation}\n",
    "becomes initial condition\n",
    "\\begin{equation}\n",
    "C(S, 0) = max(S − E, 0)\n",
    "\\end{equation}\n",
    "and the boundary conditions are :\n",
    "\\begin{cases}\n",
    "C(0,t) = 0 \\\\\n",
    "C(S,t)/S \\longrightarrow  1, S \\longrightarrow \\infty\n",
    "\\end{cases}\n",
    "\n",
    "For an **European put option**, let us denote the function value $V$ by $P$:\n",
    "\\begin{equation}\n",
    "\\frac{\\partial \\mathrm P}{ \\partial \\mathrm t } (S,t) - \\frac{1}{2}\\sigma^{2} \\mathrm S^{2} \\frac{\\partial^{2} \\mathrm P}{\\partial \\mathrm S^2}(S,t) -\\mathrm r \\mathrm S \\frac{\\partial \\mathrm P}{\\partial \\mathrm S} (S,t) + \\mathrm r \\mathrm P(S,t)= 0\n",
    "\\end{equation}\n",
    "\n",
    "The final condition\n",
    "\\begin{equation}\n",
    "P(S, T) = max(E - S, 0)\n",
    "\\end{equation}\n",
    "becomes initial condition\n",
    "\\begin{equation}\n",
    "P(S, 0) = max(E - S, 0)\n",
    "\\end{equation}\n",
    "and the boundary conditions are :\n",
    "\\begin{cases}\n",
    "P(0,t) = Ee^{-rt} \\\\\n",
    "P(S,t) = 0, S \\longrightarrow \\infty\n",
    "\\end{cases}"
   ]
  },
  {
   "cell_type": "markdown",
   "metadata": {},
   "source": [
    "# Finite-difference methods for European call and put options.\n",
    "\n",
    "Finite-difference methods are used to solve the Black-Scholes partial differential equation"
   ]
  },
  {
   "cell_type": "markdown",
   "metadata": {},
   "source": [
    "## Space discretization \n",
    "\n",
    "The interval $[0, T]$ is divided into $M$ equally sized subintervals of length $∆t$. The price of the underlying asset will take values in the unbounded interval $[0,∞)$. However, an artificial\n",
    "limit $S_{max}$ is introduced. The size of $S_{max}$ requires experimentation, but a\n",
    "simple rule is to let $S_{max}$ be around three to four times the exercise price\n",
    "\n",
    "The interval $[0, S_{max} ]$ is divided into $N$ equally sized subintervals of length $∆S$.\n",
    "\n",
    "Hence the space $[0, Smax ] × [0, T]$ is approximated by a grid:\n",
    "\\begin{equation}\n",
    "(n∆S, m∆t) ∈ [0, N∆S] × [0, M∆t]\n",
    "\\end{equation}\n",
    "\n",
    "where $n = 0, . . . , N$ and $m = 0, . . . , M$. In which follows, we denote by $V^{m}_{n}$\n",
    "the numerical approximation of $V (n∆S, m∆t)$.\n",
    "\n",
    "Terminal condition becomes :\n",
    "\n",
    "\\begin{equation}\n",
    "C(S_{max}, t) = S_{max}, \\text{ for } t ∈ [0, T]\n",
    "\\end{equation}\n",
    "\\begin{equation}\n",
    "P(S_{max}, t) = 0, \\text{ for } t ∈ [0, T]\n",
    "\\end{equation}\n"
   ]
  },
  {
   "cell_type": "markdown",
   "metadata": {},
   "source": [
    "##  The explicit method. \n",
    "\n",
    "We use a **forward difference** approximation for the time derivative, a **central difference approximation** for the first order S derivative and a **symmetric central difference approximation** for the second order S derivative :\n",
    "\n",
    "\n"
   ]
  },
  {
   "cell_type": "code",
   "execution_count": null,
   "metadata": {},
   "outputs": [],
   "source": []
  }
 ],
 "metadata": {
  "language_info": {
   "name": "python"
  },
  "orig_nbformat": 4
 },
 "nbformat": 4,
 "nbformat_minor": 2
}
