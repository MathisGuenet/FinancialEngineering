{
 "cells": [
  {
   "cell_type": "markdown",
   "metadata": {},
   "source": [
    "# Heston Model\n",
    "\n",
    "The best known stochastic volatility model is the Heston (1993) model, which postulates affine dynamics for the instantaneous variance process $V_t$, i.e., under a risk-neutral measure P,\n",
    "\n",
    "\n",
    "\\begin{cases}\n",
    "dS_{t}= rS_tdt + \\sqrt{V_t}S_tdW_{t}^1\\\\\n",
    "dv_{t} = \\kappa(v_t-θ) + \\sigma\\sqrt{v_t}dW_{t}^2\\\\ \n",
    "dW_{t}^1dW_{t}^2 = ρdt\n",
    "\\end{cases}\n",
    "\n",
    "where:\n",
    "\n",
    "*   $W_{t}^1$ and $W_{t}^2$ are two P-Brownian motions with correlation $ρ$\n",
    "*   $\\kappa$ is the speed of mean-reversion of the instantaneous variance $v_t$\n",
    "*   $θ$ is the long-term variance mean, so that $θ =$ $\\lim_{x\\to+\\infty} E[v_t]$\n",
    "*   $σ$ is the volatility of the volatility parameter\n",
    "*   $v_0$ is the initial value of the variance process\n",
    "\n",
    "\n",
    "Let's find european option prices using Monte Carlo Simulation"
   ]
  },
  {
   "cell_type": "markdown",
   "metadata": {},
   "source": [
    "# Monte Carlo Simulation\n",
    "\n",
    "We will vectorize the Monte Carlo with numpy to make faster.\n",
    "\n",
    "Use the same brownians in order to have the same price for all three discretization. We will price European Call but you just need to adapt the the payoff for others options. There exist mutiple discretization :\n"
   ]
  },
  {
   "cell_type": "code",
   "execution_count": 2,
   "metadata": {},
   "outputs": [
    {
     "data": {
      "text/plain": [
       "67.96168613433838"
      ]
     },
     "execution_count": 2,
     "metadata": {},
     "output_type": "execute_result"
    }
   ],
   "source": [
    "import numpy as np\n",
    "import pandas as pd\n",
    "import scipy.stats as ss\n",
    "import time\n",
    "\n",
    "#Option parameters\n",
    "S0 = 100\n",
    "K = 110\n",
    "r= 0.04 \n",
    "T= 1.0\n",
    "\n",
    "#Heston parameters\n",
    "v0 =  0.04     # Initial variance is square of volatility\n",
    "kappa = 6  # Speed of mean reversion \n",
    "theta = 0.04  # Long-run variance\n",
    "sigma =  0.3  # Volatility of volatility\n",
    "rho = -0.7    # Corellation of brownians\n",
    "lamda = 0   # Market price of risk \n",
    "\n",
    "np.random.seed(123)# Set the random seed\n",
    "steps = 1000         # Number of small sub-steps (time)\n",
    "Npaths = 100000     # Number of Monte carlo paths\n",
    "\n",
    "dt = T/steps    # No. of Time step\n",
    "sTime = time.time()\n",
    "dt = T/steps   \n",
    "diffusion_shape = (Npaths,steps)\n",
    "V = np.empty(diffusion_shape)\n",
    "S = np.empty(diffusion_shape)\n",
    "V[:, 0] = v0\n",
    "S[:, 0] = S0\n",
    "\n",
    "epsilon = np.random.multivariate_normal([0, 0], [[1, rho], [rho, 1]],\n",
    "                                                  diffusion_shape)\n",
    "id_vol_brownian = 0\n",
    "id_price_brownian = 1\n",
    "time.time() - sTime"
   ]
  },
  {
   "cell_type": "markdown",
   "metadata": {},
   "source": [
    "If we use the naive discretization (not the fastest MC) :\n",
    "\\begin{cases}\n",
    "S_{t+dt}= S_{t}+ rdtS_{t} + \\sqrt{V_t}\\sqrt{dt}S_t\\varepsilon^1\\\\\n",
    "v_{t+dt} = v_{t} + \\kappa(\\theta - v_{t})dt + \\sigma\\sqrt{v_t}\\sqrt{dt}\\varepsilon^2\\\\\n",
    "\\end{cases}\n"
   ]
  },
  {
   "cell_type": "code",
   "execution_count": 3,
   "metadata": {},
   "outputs": [
    {
     "ename": "KeyboardInterrupt",
     "evalue": "",
     "output_type": "error",
     "traceback": [
      "\u001b[1;31m---------------------------------------------------------------------------\u001b[0m",
      "\u001b[1;31mKeyboardInterrupt\u001b[0m                         Traceback (most recent call last)",
      "\u001b[1;32m~\\AppData\\Local\\Temp/ipykernel_3236/3912674374.py\u001b[0m in \u001b[0;36m<module>\u001b[1;34m\u001b[0m\n\u001b[0;32m      2\u001b[0m \u001b[1;32mfor\u001b[0m \u001b[0mt\u001b[0m \u001b[1;32min\u001b[0m \u001b[0mrange\u001b[0m\u001b[1;33m(\u001b[0m\u001b[1;36m1\u001b[0m\u001b[1;33m,\u001b[0m \u001b[0msteps\u001b[0m\u001b[1;33m)\u001b[0m\u001b[1;33m:\u001b[0m\u001b[1;33m\u001b[0m\u001b[1;33m\u001b[0m\u001b[0m\n\u001b[0;32m      3\u001b[0m \u001b[1;33m\u001b[0m\u001b[0m\n\u001b[1;32m----> 4\u001b[1;33m   \u001b[0mV\u001b[0m\u001b[1;33m[\u001b[0m\u001b[1;33m:\u001b[0m\u001b[1;33m,\u001b[0m\u001b[0mt\u001b[0m\u001b[1;33m]\u001b[0m \u001b[1;33m=\u001b[0m \u001b[0mV\u001b[0m\u001b[1;33m[\u001b[0m\u001b[1;33m:\u001b[0m\u001b[1;33m,\u001b[0m\u001b[0mt\u001b[0m\u001b[1;33m-\u001b[0m\u001b[1;36m1\u001b[0m\u001b[1;33m]\u001b[0m \u001b[1;33m+\u001b[0m \u001b[0mkappa\u001b[0m \u001b[1;33m*\u001b[0m \u001b[1;33m(\u001b[0m\u001b[0mtheta\u001b[0m \u001b[1;33m-\u001b[0m \u001b[0mV\u001b[0m\u001b[1;33m[\u001b[0m\u001b[1;33m:\u001b[0m\u001b[1;33m,\u001b[0m\u001b[0mt\u001b[0m\u001b[1;33m-\u001b[0m\u001b[1;36m1\u001b[0m\u001b[1;33m]\u001b[0m\u001b[1;33m)\u001b[0m\u001b[1;33m*\u001b[0m\u001b[0mdt\u001b[0m \u001b[1;33m+\u001b[0m \u001b[0msigma\u001b[0m\u001b[1;33m*\u001b[0m\u001b[0mnp\u001b[0m\u001b[1;33m.\u001b[0m\u001b[0msqrt\u001b[0m\u001b[1;33m(\u001b[0m\u001b[0mV\u001b[0m\u001b[1;33m[\u001b[0m\u001b[1;33m:\u001b[0m\u001b[1;33m,\u001b[0m\u001b[0mt\u001b[0m\u001b[1;33m-\u001b[0m\u001b[1;36m1\u001b[0m\u001b[1;33m]\u001b[0m\u001b[1;33m*\u001b[0m\u001b[0mdt\u001b[0m\u001b[1;33m)\u001b[0m\u001b[1;33m*\u001b[0m\u001b[0mepsilon\u001b[0m\u001b[1;33m[\u001b[0m\u001b[1;33m:\u001b[0m\u001b[1;33m,\u001b[0m\u001b[0mt\u001b[0m\u001b[1;33m,\u001b[0m\u001b[0mid_vol_brownian\u001b[0m\u001b[1;33m]\u001b[0m\u001b[1;33m\u001b[0m\u001b[1;33m\u001b[0m\u001b[0m\n\u001b[0m\u001b[0;32m      5\u001b[0m   \u001b[0mV\u001b[0m\u001b[1;33m[\u001b[0m\u001b[1;33m:\u001b[0m\u001b[1;33m,\u001b[0m\u001b[0mt\u001b[0m\u001b[1;33m]\u001b[0m \u001b[1;33m=\u001b[0m \u001b[0mnp\u001b[0m\u001b[1;33m.\u001b[0m\u001b[0mmaximum\u001b[0m\u001b[1;33m(\u001b[0m\u001b[0mV\u001b[0m\u001b[1;33m[\u001b[0m\u001b[1;33m:\u001b[0m\u001b[1;33m,\u001b[0m\u001b[0mt\u001b[0m\u001b[1;33m]\u001b[0m\u001b[1;33m,\u001b[0m \u001b[1;36m0\u001b[0m\u001b[1;33m)\u001b[0m\u001b[1;33m\u001b[0m\u001b[1;33m\u001b[0m\u001b[0m\n\u001b[0;32m      6\u001b[0m   \u001b[0mS\u001b[0m\u001b[1;33m[\u001b[0m\u001b[1;33m:\u001b[0m\u001b[1;33m,\u001b[0m\u001b[0mt\u001b[0m\u001b[1;33m]\u001b[0m \u001b[1;33m=\u001b[0m \u001b[0mS\u001b[0m\u001b[1;33m[\u001b[0m\u001b[1;33m:\u001b[0m\u001b[1;33m,\u001b[0m\u001b[0mt\u001b[0m\u001b[1;33m-\u001b[0m\u001b[1;36m1\u001b[0m\u001b[1;33m]\u001b[0m \u001b[1;33m*\u001b[0m\u001b[1;33m(\u001b[0m\u001b[1;36m1\u001b[0m\u001b[1;33m+\u001b[0m\u001b[0mr\u001b[0m\u001b[1;33m*\u001b[0m\u001b[0mdt\u001b[0m\u001b[1;33m+\u001b[0m\u001b[0mnp\u001b[0m\u001b[1;33m.\u001b[0m\u001b[0msqrt\u001b[0m\u001b[1;33m(\u001b[0m\u001b[0mV\u001b[0m\u001b[1;33m[\u001b[0m\u001b[1;33m:\u001b[0m\u001b[1;33m,\u001b[0m\u001b[0mt\u001b[0m\u001b[1;33m-\u001b[0m\u001b[1;36m1\u001b[0m\u001b[1;33m]\u001b[0m\u001b[1;33m*\u001b[0m\u001b[0mdt\u001b[0m\u001b[1;33m)\u001b[0m\u001b[1;33m*\u001b[0m\u001b[0mepsilon\u001b[0m\u001b[1;33m[\u001b[0m\u001b[1;33m:\u001b[0m\u001b[1;33m,\u001b[0m\u001b[0mt\u001b[0m\u001b[1;33m,\u001b[0m\u001b[0mid_price_brownian\u001b[0m\u001b[1;33m]\u001b[0m\u001b[1;33m)\u001b[0m\u001b[1;33m\u001b[0m\u001b[1;33m\u001b[0m\u001b[0m\n",
      "\u001b[1;31mKeyboardInterrupt\u001b[0m: "
     ]
    }
   ],
   "source": [
    "sTime = time.time()\n",
    "for t in range(1, steps):\n",
    "  \n",
    "  V[:,t] = V[:,t-1] + kappa * (theta - V[:,t-1])*dt + sigma*np.sqrt(V[:,t-1]*dt)*epsilon[:,t,id_vol_brownian]\n",
    "  V[:,t] = np.maximum(V[:,t], 0)\n",
    "  S[:,t] = S[:,t-1] + r*dt*S[:,t-1] + np.sqrt(V[:,t-1]*dt)*S[:,t-1]*epsilon[:,t,id_price_brownian]\n",
    "call = np.mean(np.maximum(S[:,-1]-K,0))*np.exp(-r*T)\n",
    "err = ss.sem(np.exp(-r*T) * np.maximum(S[:,-1]-K,0))\n",
    "print(\"call price = %3f with error = %3f and time = %3f\" %(call,err,time.time()-sTime))"
   ]
  },
  {
   "cell_type": "markdown",
   "metadata": {},
   "source": [
    "If we factorize by the $S_t$ in the price diffusion (fastest MC): \n",
    "\n",
    "\\begin{cases}\n",
    "S_{t+dt}= S_{t}(1+rdt + \\sqrt{V_t}\\sqrt{dt}\\varepsilon^1)\\\\\n",
    "V_{t+dt} = V_{t} + \\kappa(\\theta - V_{t})dt + \\sigma\\sqrt{V_t}\\sqrt{dt}\\varepsilon^2\\\\\n",
    "\\end{cases}"
   ]
  },
  {
   "cell_type": "code",
   "execution_count": null,
   "metadata": {},
   "outputs": [],
   "source": [
    "sTime = time.time()\n",
    "for t in range(1, steps):\n",
    "  \n",
    "  V[:,t] = V[:,t-1] + kappa * (theta - V[:,t-1])*dt + sigma*np.sqrt(V[:,t-1]*dt)*epsilon[:,t,id_vol_brownian]\n",
    "  V[:,t] = np.maximum(V[:,t], 0)\n",
    "  S[:,t] = S[:,t-1] *(1+r*dt+np.sqrt(V[:,t-1]*dt)*epsilon[:,t,id_price_brownian])\n",
    "call = np.mean(np.maximum(S[:,-1]-K,0))*np.exp(-r*T)\n",
    "err = ss.sem(np.exp(-r*T) * np.maximum(S[:,-1]-K,0))\n",
    "print(\"call price = %3f with error = %3f and time = %3f\" %(call,err,time.time()-sTime))"
   ]
  },
  {
   "cell_type": "markdown",
   "metadata": {},
   "source": [
    "If we suppose log returns in price diffusion (slowest MC):\n",
    "\n",
    "\\begin{cases}\n",
    "S_{t+dt}= S_{t}e^{(r-\\frac{V_t}{2})dt + \\sqrt{V_t}\\sqrt{dt}ɛ^1}\\\\\n",
    "v_{t+dt} = v_{t} + \\kappa(\\theta - v_{t})dt + \\sigma\\sqrt{v_t}\\sqrt{dt}\\varepsilon^2\\\\\n",
    "\\end{cases}\n"
   ]
  },
  {
   "cell_type": "code",
   "execution_count": null,
   "metadata": {},
   "outputs": [],
   "source": [
    "sTime = time.time()\n",
    "for t in range(1, steps):\n",
    "  \n",
    "  V[:,t] = V[:,t-1] + kappa * (theta - V[:,t-1])*dt + sigma*np.sqrt(V[:,t-1]*dt)*epsilon[:,t,id_vol_brownian]\n",
    "  V[:,t] = np.maximum(V[:,t], 0)\n",
    "  S[:,t] = S[:,t-1] * np.exp(np.sqrt(V[:,t-1] * dt) * epsilon[:,t,id_price_brownian] + (r - V[:,t-1]/2) * dt)\n",
    "call = np.mean(np.maximum(S[:,-1]-K,0))*np.exp(-r*T)\n",
    "err = ss.sem(np.exp(-r*T) * np.maximum(S[:,-1]-K,0))\n",
    "print(\"call price = %3f with error = %3f and time = %3f\" %(call,err,time.time()-sTime))"
   ]
  },
  {
   "cell_type": "markdown",
   "metadata": {},
   "source": [
    "By setting $X_{t} = log(S_{t})$ :\n",
    "\n",
    "\\begin{cases}\n",
    "\n",
    "dX_{t} = (r - \\frac{v_{t}}{2})dt + \\sqrt{V_{t}}dW^{1}_{t} \\\\\n",
    "dv_{t} = \\kappa(v_t-θ) + \\sigma\\sqrt{v_t}dW_{t}^2\\\\ \n",
    "\\end{cases}\n",
    "\n",
    "\\begin{cases}\n",
    "X_{t+dt} = X_{t} + (r - \\frac{v_{t}}{2})dt + \\sqrt{v_t}\\sqrt{dt}\\varepsilon^1 \\\\\n",
    "v_{t+dt} = v_{t} + \\kappa(\\theta - v_{t})dt + \\sigma\\sqrt{v_t}\\sqrt{dt}\\varepsilon^2\\\\\n",
    "\\end{cases}"
   ]
  },
  {
   "cell_type": "markdown",
   "metadata": {},
   "source": []
  }
 ],
 "metadata": {
  "interpreter": {
   "hash": "081f07663466fc69ce96257b8ad9cdd416892dfaf446a359a866e7108e12f213"
  },
  "kernelspec": {
   "display_name": "Python 3.9.1 64-bit",
   "language": "python",
   "name": "python3"
  },
  "language_info": {
   "codemirror_mode": {
    "name": "ipython",
    "version": 3
   },
   "file_extension": ".py",
   "mimetype": "text/x-python",
   "name": "python",
   "nbconvert_exporter": "python",
   "pygments_lexer": "ipython3",
   "version": "3.9.1"
  },
  "orig_nbformat": 4
 },
 "nbformat": 4,
 "nbformat_minor": 2
}
